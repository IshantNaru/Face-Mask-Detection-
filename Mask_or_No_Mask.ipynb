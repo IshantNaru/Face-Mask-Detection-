{
 "cells": [
  {
   "cell_type": "code",
   "execution_count": 3,
   "id": "5e9accfb",
   "metadata": {},
   "outputs": [],
   "source": [
    "import numpy as np\n",
    "import pandas as pd \n",
    "import matplotlib.pyplot as plt \n",
    "%matplotlib inline \n",
    "import tensorflow as tf\n",
    "\n",
    "from tensorflow import keras\n",
    "from tensorflow.keras import layers"
   ]
  },
  {
   "cell_type": "code",
   "execution_count": 4,
   "id": "1339a3b2",
   "metadata": {},
   "outputs": [],
   "source": [
    "#import splitfolders\n",
    "\n",
    "#path = 'C:/Users/Ishant Naru/Documents/Final_Assignment_Face Mask Dataset/Dataset'\n",
    "#output = 'C:/Users/Ishant Naru/Documents/Final_Assignment_Face Mask Dataset'\n",
    "\n",
    "#splitfolders.ratio(path, output, seed=1337, ratio=(0.75,0.25))"
   ]
  },
  {
   "cell_type": "code",
   "execution_count": 5,
   "id": "3659ee40",
   "metadata": {},
   "outputs": [],
   "source": [
    "#Filepath/Directory Path \n",
    "train_dir = 'C:/Users/Ishant Naru/Documents/Final_Assignment_Face Mask Dataset/train'\n",
    "test_dir = 'C:/Users/Ishant Naru/Documents/Final_Assignment_Face Mask Dataset/test'\n",
    "validation_dir = 'C:/Users/Ishant Naru/Documents/Final_Assignment_Face Mask Dataset/val'"
   ]
  },
  {
   "cell_type": "code",
   "execution_count": 6,
   "id": "f3c9a107",
   "metadata": {},
   "outputs": [],
   "source": [
    "#reproducibility\n",
    "np.random.seed(45)\n",
    "tf.random.set_seed(45)"
   ]
  },
  {
   "cell_type": "code",
   "execution_count": 7,
   "id": "890ab5be",
   "metadata": {},
   "outputs": [],
   "source": [
    "from tensorflow.keras.preprocessing.image import ImageDataGenerator\n",
    "\n",
    "#generating batches of tensor image data \n",
    "train_datagen = ImageDataGenerator(rescale=1./255,\n",
    "                                  rotation_range=10,\n",
    "                                  #width_shift_range=0.2,\n",
    "                                  #height_shift_range=0.2,\n",
    "                                  #shear_range=0.3,\n",
    "                                  #zoom_range=0.4,\n",
    "                                  horizontal_flip= True)\n",
    "\n",
    "test_datagen = ImageDataGenerator(rescale=1./255)"
   ]
  },
  {
   "cell_type": "code",
   "execution_count": 8,
   "id": "d4fc4a49",
   "metadata": {},
   "outputs": [
    {
     "name": "stdout",
     "output_type": "stream",
     "text": [
      "Found 8100 images belonging to 2 classes.\n",
      "Found 2700 images belonging to 2 classes.\n"
     ]
    }
   ],
   "source": [
    "#Creating Train and Validation image generator \n",
    "train_generator = train_datagen.flow_from_directory(\n",
    "                train_dir,\n",
    "                target_size=(128,128),\n",
    "                batch_size=81,\n",
    "                class_mode='binary')\n",
    "\n",
    "validation_generator = test_datagen.flow_from_directory(\n",
    "                validation_dir,\n",
    "                target_size=(128,128),\n",
    "                batch_size=90,\n",
    "                class_mode='binary')"
   ]
  },
  {
   "cell_type": "code",
   "execution_count": 9,
   "id": "630ff104",
   "metadata": {},
   "outputs": [
    {
     "name": "stdout",
     "output_type": "stream",
     "text": [
      "Model: \"vgg19\"\n",
      "_________________________________________________________________\n",
      "Layer (type)                 Output Shape              Param #   \n",
      "=================================================================\n",
      "input_1 (InputLayer)         [(None, 128, 128, 3)]     0         \n",
      "_________________________________________________________________\n",
      "block1_conv1 (Conv2D)        (None, 128, 128, 64)      1792      \n",
      "_________________________________________________________________\n",
      "block1_conv2 (Conv2D)        (None, 128, 128, 64)      36928     \n",
      "_________________________________________________________________\n",
      "block1_pool (MaxPooling2D)   (None, 64, 64, 64)        0         \n",
      "_________________________________________________________________\n",
      "block2_conv1 (Conv2D)        (None, 64, 64, 128)       73856     \n",
      "_________________________________________________________________\n",
      "block2_conv2 (Conv2D)        (None, 64, 64, 128)       147584    \n",
      "_________________________________________________________________\n",
      "block2_pool (MaxPooling2D)   (None, 32, 32, 128)       0         \n",
      "_________________________________________________________________\n",
      "block3_conv1 (Conv2D)        (None, 32, 32, 256)       295168    \n",
      "_________________________________________________________________\n",
      "block3_conv2 (Conv2D)        (None, 32, 32, 256)       590080    \n",
      "_________________________________________________________________\n",
      "block3_conv3 (Conv2D)        (None, 32, 32, 256)       590080    \n",
      "_________________________________________________________________\n",
      "block3_conv4 (Conv2D)        (None, 32, 32, 256)       590080    \n",
      "_________________________________________________________________\n",
      "block3_pool (MaxPooling2D)   (None, 16, 16, 256)       0         \n",
      "_________________________________________________________________\n",
      "block4_conv1 (Conv2D)        (None, 16, 16, 512)       1180160   \n",
      "_________________________________________________________________\n",
      "block4_conv2 (Conv2D)        (None, 16, 16, 512)       2359808   \n",
      "_________________________________________________________________\n",
      "block4_conv3 (Conv2D)        (None, 16, 16, 512)       2359808   \n",
      "_________________________________________________________________\n",
      "block4_conv4 (Conv2D)        (None, 16, 16, 512)       2359808   \n",
      "_________________________________________________________________\n",
      "block4_pool (MaxPooling2D)   (None, 8, 8, 512)         0         \n",
      "_________________________________________________________________\n",
      "block5_conv1 (Conv2D)        (None, 8, 8, 512)         2359808   \n",
      "_________________________________________________________________\n",
      "block5_conv2 (Conv2D)        (None, 8, 8, 512)         2359808   \n",
      "_________________________________________________________________\n",
      "block5_conv3 (Conv2D)        (None, 8, 8, 512)         2359808   \n",
      "_________________________________________________________________\n",
      "block5_conv4 (Conv2D)        (None, 8, 8, 512)         2359808   \n",
      "_________________________________________________________________\n",
      "block5_pool (MaxPooling2D)   (None, 4, 4, 512)         0         \n",
      "=================================================================\n",
      "Total params: 20,024,384\n",
      "Trainable params: 20,024,384\n",
      "Non-trainable params: 0\n",
      "_________________________________________________________________\n"
     ]
    }
   ],
   "source": [
    "#Importing Convolutional Base \n",
    "from tensorflow.keras.applications import VGG19\n",
    "\n",
    "conv_base = VGG19(weights='imagenet',\n",
    "                 include_top=False,\n",
    "                 input_shape=(128,128,3))\n",
    "\n",
    "conv_base.summary()"
   ]
  },
  {
   "cell_type": "code",
   "execution_count": 14,
   "id": "7eb9c93c",
   "metadata": {},
   "outputs": [],
   "source": [
    "conv_base.trainable=False"
   ]
  },
  {
   "cell_type": "code",
   "execution_count": 16,
   "id": "444355b2",
   "metadata": {},
   "outputs": [
    {
     "name": "stdout",
     "output_type": "stream",
     "text": [
      "Model: \"sequential_1\"\n",
      "_________________________________________________________________\n",
      "Layer (type)                 Output Shape              Param #   \n",
      "=================================================================\n",
      "vgg19 (Functional)           (None, 4, 4, 512)         20024384  \n",
      "_________________________________________________________________\n",
      "flatten_1 (Flatten)          (None, 8192)              0         \n",
      "_________________________________________________________________\n",
      "dense_2 (Dense)              (None, 300)               2457900   \n",
      "_________________________________________________________________\n",
      "dense_3 (Dense)              (None, 1)                 301       \n",
      "=================================================================\n",
      "Total params: 22,482,585\n",
      "Trainable params: 2,458,201\n",
      "Non-trainable params: 20,024,384\n",
      "_________________________________________________________________\n"
     ]
    }
   ],
   "source": [
    "#Connecting conv_base to fully connected Neural Network \n",
    "\n",
    "fcnn_1 = keras.Sequential([\n",
    "    conv_base,\n",
    "    layers.Flatten(),\n",
    "    layers.Dense(300, activation = 'relu'),\n",
    "    layers.Dense(1, activation='sigmoid')\n",
    "])\n",
    "\n",
    "\n",
    "fcnn_1.summary()"
   ]
  },
  {
   "cell_type": "code",
   "execution_count": 17,
   "id": "a551dc87",
   "metadata": {},
   "outputs": [],
   "source": [
    "#compiling step\n",
    "from tensorflow.keras.optimizers import RMSprop\n",
    "\n",
    "fcnn_1.compile(loss='binary_crossentropy',\n",
    "              optimizer=RMSprop(learning_rate= 2e-5),\n",
    "              metrics = ['accuracy'])\n"
   ]
  },
  {
   "cell_type": "code",
   "execution_count": 22,
   "id": "b5960ec8",
   "metadata": {},
   "outputs": [],
   "source": [
    "#Creating Callbacks \n",
    "\n",
    "checkpoint_cb=keras.callbacks.ModelCheckpoint(\"Mask_or_Nomask_model_custom.h5\", save_best_only=True)\n",
    "early_stopping_cb = keras.callbacks.EarlyStopping(min_delta=0.001,\n",
    "                                                  patience=3, \n",
    "                                                  restore_best_weights=True)"
   ]
  },
  {
   "cell_type": "code",
   "execution_count": 23,
   "id": "cb87e5d6",
   "metadata": {},
   "outputs": [
    {
     "name": "stdout",
     "output_type": "stream",
     "text": [
      "Epoch 1/20\n",
      "100/100 [==============================] - 1173s 12s/step - loss: 0.0229 - accuracy: 0.9925 - val_loss: 0.0200 - val_accuracy: 0.9941\n",
      "Epoch 2/20\n",
      "100/100 [==============================] - 1173s 12s/step - loss: 0.0214 - accuracy: 0.9931 - val_loss: 0.0198 - val_accuracy: 0.9944\n",
      "Epoch 3/20\n",
      "100/100 [==============================] - 1180s 12s/step - loss: 0.0190 - accuracy: 0.9938 - val_loss: 0.0179 - val_accuracy: 0.9941\n",
      "Epoch 4/20\n",
      "100/100 [==============================] - 1179s 12s/step - loss: 0.0178 - accuracy: 0.9946 - val_loss: 0.0167 - val_accuracy: 0.9948\n",
      "Epoch 5/20\n",
      "100/100 [==============================] - 1176s 12s/step - loss: 0.0169 - accuracy: 0.9948 - val_loss: 0.0170 - val_accuracy: 0.9933\n",
      "Epoch 6/20\n",
      "100/100 [==============================] - 1180s 12s/step - loss: 0.0158 - accuracy: 0.9948 - val_loss: 0.0173 - val_accuracy: 0.9941\n",
      "Epoch 7/20\n",
      "100/100 [==============================] - 1192s 12s/step - loss: 0.0146 - accuracy: 0.9958 - val_loss: 0.0145 - val_accuracy: 0.9959\n",
      "Epoch 8/20\n",
      "100/100 [==============================] - 1261s 13s/step - loss: 0.0146 - accuracy: 0.9952 - val_loss: 0.0141 - val_accuracy: 0.9948\n",
      "Epoch 9/20\n",
      "100/100 [==============================] - 1170s 12s/step - loss: 0.0139 - accuracy: 0.9954 - val_loss: 0.0138 - val_accuracy: 0.9963\n",
      "Epoch 10/20\n",
      "100/100 [==============================] - 1187s 12s/step - loss: 0.0143 - accuracy: 0.9952 - val_loss: 0.0138 - val_accuracy: 0.9952\n"
     ]
    }
   ],
   "source": [
    "#fitting \n",
    "\n",
    "history= fcnn_1.fit( train_generator,\n",
    "                    steps_per_epoch=100,\n",
    "                    epochs=20,\n",
    "                    validation_data=validation_generator,\n",
    "                    validation_steps=30,\n",
    "                    callbacks=[checkpoint_cb, early_stopping_cb])"
   ]
  },
  {
   "cell_type": "code",
   "execution_count": 24,
   "id": "87072db6",
   "metadata": {
    "scrolled": true
   },
   "outputs": [
    {
     "data": {
      "image/png": "[encoded data removed]",
      "text/plain": [
       "<Figure size 720x504 with 1 Axes>"
      ]
     },
     "metadata": {
      "needs_background": "light"
     },
     "output_type": "display_data"
    }
   ],
   "source": [
    "pd.DataFrame(history.history).plot(figsize=(10,7))\n",
    "plt.grid(True)\n",
    "plt.gca().set_ylim(0,1)\n",
    "plt.show()"
   ]
  },
  {
   "cell_type": "code",
   "execution_count": 25,
   "id": "52b03dc8",
   "metadata": {},
   "outputs": [
    {
     "name": "stdout",
     "output_type": "stream",
     "text": [
      "Found 992 images belonging to 2 classes.\n"
     ]
    }
   ],
   "source": [
    "test_generator = test_datagen.flow_from_directory(\n",
    "                 test_dir,\n",
    "                 target_size=(128,128),\n",
    "                 batch_size=20,\n",
    "                 class_mode='binary')\n",
    "\n"
   ]
  },
  {
   "cell_type": "code",
   "execution_count": 75,
   "id": "80fc0f25",
   "metadata": {},
   "outputs": [
    {
     "name": "stdout",
     "output_type": "stream",
     "text": [
      "50/50 [==============================] - 102s 2s/step - loss: 0.0113 - accuracy: 0.9980\n"
     ]
    },
    {
     "data": {
      "text/plain": [
       "[0.011325175873935223, 0.9979838728904724]"
      ]
     },
     "execution_count": 75,
     "metadata": {},
     "output_type": "execute_result"
    }
   ],
   "source": [
    "#Evaluating on test dataset images \n",
    "fcnn_1.evaluate(test_generator, steps=50)"
   ]
  }
 ],
 "metadata": {
  "kernelspec": {
   "display_name": "Python 3",
   "language": "python",
   "name": "python3"
  },
  "language_info": {
   "codemirror_mode": {
    "name": "ipython",
    "version": 3
   },
   "file_extension": ".py",
   "mimetype": "text/x-python",
   "name": "python",
   "nbconvert_exporter": "python",
   "pygments_lexer": "ipython3",
   "version": "3.8.8"
  }
 },
 "nbformat": 4,
 "nbformat_minor": 5
}
